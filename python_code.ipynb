{
  "nbformat": 4,
  "nbformat_minor": 0,
  "metadata": {
    "colab": {
      "name": "Untitled26.ipynb",
      "provenance": []
    },
    "kernelspec": {
      "name": "python3",
      "display_name": "Python 3"
    },
    "language_info": {
      "name": "python"
    }
  },
  "cells": [
    {
      "cell_type": "code",
      "source": [
        "a = 7 * 11 * 13\n",
        "print(a)"
      ],
      "metadata": {
        "colab": {
          "base_uri": "https://localhost:8080/"
        },
        "id": "wITWOFruY5ld",
        "outputId": "f308163a-3188-4546-9583-1cb5dc13ab5f"
      },
      "execution_count": 7,
      "outputs": [
        {
          "output_type": "stream",
          "name": "stdout",
          "text": [
            "1001\n"
          ]
        }
      ]
    },
    {
      "cell_type": "code",
      "source": [
        "math = 92\n",
        "japanese = 80\n",
        "science = 68\n",
        "social = 70\n",
        "\n",
        "sum = math + japanese + science + social\n",
        "print(sum)\n",
        "average = sum / 4\n",
        "print(average)"
      ],
      "metadata": {
        "colab": {
          "base_uri": "https://localhost:8080/"
        },
        "id": "s5nIhgrhZBsE",
        "outputId": "a5c82ccb-2999-473a-ed87-cd3bd4547eea"
      },
      "execution_count": 9,
      "outputs": [
        {
          "output_type": "stream",
          "name": "stdout",
          "text": [
            "310\n",
            "77.5\n"
          ]
        }
      ]
    },
    {
      "cell_type": "code",
      "source": [
        "math = 92\n",
        "japanese = 80\n",
        "science = 68\n",
        "social = 70\n",
        "\n",
        "sum = math + japanese + science + social\n",
        "print(\"sum={}\".format(sum))\n",
        "average = sum / 4\n",
        "print(\"average={}\".format(average))"
      ],
      "metadata": {
        "colab": {
          "base_uri": "https://localhost:8080/"
        },
        "id": "LKiYdFwkbvTp",
        "outputId": "caf8dabb-d0fe-4044-86dd-7dfe051faeb5"
      },
      "execution_count": 10,
      "outputs": [
        {
          "output_type": "stream",
          "name": "stdout",
          "text": [
            "sum=310\n",
            "average=77.5\n"
          ]
        }
      ]
    },
    {
      "cell_type": "code",
      "source": [
        "name = \"ノイマン\"\n",
        "print(name)"
      ],
      "metadata": {
        "colab": {
          "base_uri": "https://localhost:8080/"
        },
        "id": "47Ope1gxdnDt",
        "outputId": "af25468e-8128-4d05-a2e3-c6fe25835f0e"
      },
      "execution_count": 11,
      "outputs": [
        {
          "output_type": "stream",
          "name": "stdout",
          "text": [
            "ノイマン\n"
          ]
        }
      ]
    },
    {
      "cell_type": "code",
      "source": [
        "kisu = [1,3,5,7,9]\n",
        "print(kisu)"
      ],
      "metadata": {
        "colab": {
          "base_uri": "https://localhost:8080/"
        },
        "id": "dsL12Qvhdtm9",
        "outputId": "f3207842-be9c-4629-f456-a3e2b14ca2ec"
      },
      "execution_count": 12,
      "outputs": [
        {
          "output_type": "stream",
          "name": "stdout",
          "text": [
            "[1, 3, 5, 7, 9]\n"
          ]
        }
      ]
    },
    {
      "cell_type": "code",
      "source": [
        "lists = [1,3,5,7,9,\"キング\",\"クイーン\",[11,13]]\n",
        "print(lists)"
      ],
      "metadata": {
        "colab": {
          "base_uri": "https://localhost:8080/"
        },
        "id": "Jw6hIyGJd4aH",
        "outputId": "30c10639-6675-4ff4-cb71-3a2c2eb9207b"
      },
      "execution_count": 13,
      "outputs": [
        {
          "output_type": "stream",
          "name": "stdout",
          "text": [
            "[1, 3, 5, 7, 9, 'キング', 'クイーン', [11, 13]]\n"
          ]
        }
      ]
    },
    {
      "cell_type": "code",
      "source": [
        "lists = [1,3,5,7,9,\"キング\",\"クイーン\",[11,13]]\n",
        "print(lists)\n",
        "lists.append(\"要素の追加\")\n",
        "print(lists)"
      ],
      "metadata": {
        "colab": {
          "base_uri": "https://localhost:8080/"
        },
        "id": "_xkSWEuDeMfz",
        "outputId": "cb6a8301-a67b-45a1-c90e-61019a74d11c"
      },
      "execution_count": 14,
      "outputs": [
        {
          "output_type": "stream",
          "name": "stdout",
          "text": [
            "[1, 3, 5, 7, 9, 'キング', 'クイーン', [11, 13]]\n",
            "[1, 3, 5, 7, 9, 'キング', 'クイーン', [11, 13], '要素の追加']\n"
          ]
        }
      ]
    },
    {
      "cell_type": "code",
      "execution_count": null,
      "metadata": {
        "id": "3gMzqv-8UlHL"
      },
      "outputs": [],
      "source": [
        "class student():\n",
        "  #コンストラクタの定義\n",
        "  def __init__(self, name, age, weight, height):\n",
        "    #インスタンス変数\n",
        "    self.name = name\n",
        "    self.age = age\n",
        "    self.weight = weight\n",
        "    self.height = height\n",
        "    print(\"コンストラクタが呼ばれました\")\n",
        "\n",
        "  def hello(self):\n",
        "    print(\"Hello, \" + self.name)\n",
        "  def BMI(self):\n",
        "    print(self.weight/(self.height/100)**2)\n",
        "\n",
        "takana = student(\"rika\", 23, 65, 170)\n",
        "takana.hello()\n",
        "takana.BMI()"
      ]
    },
    {
      "cell_type": "code",
      "source": [
        "import pandas as pd\n",
        "#データフレームの表示\n",
        "df = pd.read_csv('https://archive.ics.uci.edu/ml/machine-learning-databases/iris/iris.data',header=None)\n",
        "print(df)"
      ],
      "metadata": {
        "id": "N8wZaqeZX7tE"
      },
      "execution_count": null,
      "outputs": []
    },
    {
      "cell_type": "code",
      "source": [
        ""
      ],
      "metadata": {
        "id": "YoQiHzOdX_qR"
      },
      "execution_count": null,
      "outputs": []
    }
  ]
}